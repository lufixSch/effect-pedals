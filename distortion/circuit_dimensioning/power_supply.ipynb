{
 "cells": [
  {
   "cell_type": "code",
   "execution_count": 2,
   "metadata": {},
   "outputs": [],
   "source": [
    "from numpy import pi"
   ]
  },
  {
   "cell_type": "markdown",
   "metadata": {},
   "source": [
    "# Feedback"
   ]
  },
  {
   "cell_type": "code",
   "execution_count": 3,
   "metadata": {},
   "outputs": [],
   "source": [
    "R11 = 13e3 # Feedback current 92uA\n",
    "\n",
    "Vref = 1.23\n",
    "Vout = 9"
   ]
  },
  {
   "cell_type": "code",
   "execution_count": 4,
   "metadata": {},
   "outputs": [
    {
     "name": "stdout",
     "output_type": "stream",
     "text": [
      "R11 = 13k, R12 = 82k\n"
     ]
    }
   ],
   "source": [
    "R12 = R11  * (Vout / Vref -1)\n",
    "\n",
    "print(f\"R11 = {R11 * 1e-3:.0f}k, R12 = {R12 * 1e-3:.0f}k\")"
   ]
  },
  {
   "cell_type": "markdown",
   "metadata": {},
   "source": [
    "# Virtual Ground"
   ]
  },
  {
   "cell_type": "code",
   "execution_count": 8,
   "metadata": {},
   "outputs": [
    {
     "name": "stdout",
     "output_type": "stream",
     "text": [
      "C4 = 22.7uF\n"
     ]
    }
   ],
   "source": [
    "fg = 0.35\n",
    "\n",
    "R3 = 10e3\n",
    "R8 = 10e3\n",
    "\n",
    "Rp38 = (R3 * R8)/R3 + R8\n",
    "\n",
    "C4 = 1/(2 * pi * Rp38 * fg)\n",
    "\n",
    "print(f\"C4 = {C4*1e6:.3}uF\")"
   ]
  }
 ],
 "metadata": {
  "kernelspec": {
   "display_name": "Python 3.9.4 ('data')",
   "language": "python",
   "name": "python3"
  },
  "language_info": {
   "codemirror_mode": {
    "name": "ipython",
    "version": 3
   },
   "file_extension": ".py",
   "mimetype": "text/x-python",
   "name": "python",
   "nbconvert_exporter": "python",
   "pygments_lexer": "ipython3",
   "version": "3.9.4"
  },
  "orig_nbformat": 4,
  "vscode": {
   "interpreter": {
    "hash": "c650d7ea476703797fef1616c599c5fe06f1b1bacf69f4e17f09dcc79ec3c159"
   }
  }
 },
 "nbformat": 4,
 "nbformat_minor": 2
}
