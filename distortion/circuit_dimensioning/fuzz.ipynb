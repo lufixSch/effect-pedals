{
 "cells": [
  {
   "cell_type": "code",
   "execution_count": 25,
   "metadata": {},
   "outputs": [],
   "source": [
    "from numpy import pi"
   ]
  },
  {
   "cell_type": "markdown",
   "metadata": {},
   "source": [
    "# Input stage"
   ]
  },
  {
   "cell_type": "code",
   "execution_count": 26,
   "metadata": {},
   "outputs": [
    {
     "name": "stdout",
     "output_type": "stream",
     "text": [
      "C12 = 22.291uF\n"
     ]
    }
   ],
   "source": [
    "fg = 0.014\n",
    "\n",
    "R14 = 510e3\n",
    "R16 = 510e3\n",
    "\n",
    "C12 = 1/(2 * pi * R16 * fg)\n",
    "print(f\"C12 = {C12*1e6:.3f}uF\")"
   ]
  },
  {
   "cell_type": "markdown",
   "metadata": {},
   "source": [
    "# Effect stage"
   ]
  },
  {
   "attachments": {},
   "cell_type": "markdown",
   "metadata": {},
   "source": [
    "## Voltage Divider"
   ]
  },
  {
   "cell_type": "code",
   "execution_count": 22,
   "metadata": {},
   "outputs": [
    {
     "name": "stdout",
     "output_type": "stream",
     "text": [
      "RF1 = 100k, R18 = 100k, R9 = 100k\n"
     ]
    }
   ],
   "source": [
    "V = 1/3\n",
    "\n",
    "RF2 = 100e3\n",
    "R18 = 100e3\n",
    "\n",
    "Rp = RF2 * R18 / (RF2 + R18)\n",
    "\n",
    "R9 = (1-V)/V * Rp\n",
    "print(f\"RF1 = {RF2/1e3:.0f}k, R18 = {R18/1e3:.0f}k, R9 = {R9/1e3:.0f}k\")"
   ]
  },
  {
   "cell_type": "markdown",
   "metadata": {},
   "source": [
    "## Feeback"
   ]
  },
  {
   "cell_type": "markdown",
   "metadata": {},
   "source": [
    "$ A = \\cfrac{R_{F1} + \\cfrac{1}{sC_{F1}}}{R_{F1} + \\cfrac{1}{sC_{F1}} + Level + R_1} = \\cfrac{1 + sC_{F1}R_{F1}}{1 + sC_{F1}(R_{F1} + Level + R_1)} $"
   ]
  },
  {
   "cell_type": "code",
   "execution_count": 20,
   "metadata": {},
   "outputs": [
    {
     "name": "stdout",
     "output_type": "stream",
     "text": [
      "min. V = 2.0\n",
      "max. V = 52.0\n"
     ]
    }
   ],
   "source": [
    "Level1 = 50e3 # Potentiometer\n",
    "R1 = 1e3\n",
    "RF1 = 1e3\n",
    "\n",
    "V_min = 1 + R1/RF1\n",
    "V_max = 1 + (R1 + Level1)/RF1\n",
    "\n",
    "print(f\"min. V = {V_min}\")\n",
    "print(f\"max. V = {V_max}\")"
   ]
  },
  {
   "cell_type": "markdown",
   "metadata": {},
   "source": [
    "# Tone"
   ]
  },
  {
   "cell_type": "markdown",
   "metadata": {},
   "source": [
    "$ A = \\cfrac{R_{6} + \\cfrac{1}{sC_{10}} + Tone}{R_{6} + \\cfrac{1}{sC_{10}} + Tone + R_{7}} = \\cfrac{1 + sC_{10}(R_{6} + Tone)}{1 + sC_{10}(R_{6} + Tone + R_{7})} $"
   ]
  },
  {
   "cell_type": "code",
   "execution_count": 23,
   "metadata": {},
   "outputs": [
    {
     "name": "stdout",
     "output_type": "stream",
     "text": [
      "min. V = 1.198\n",
      "max. V = 21.0\n"
     ]
    }
   ],
   "source": [
    "R6 = 100\n",
    "R7 = 2e3\n",
    "Tone1 = 10e3 # Potentiometer\n",
    "\n",
    "V_max = 1 + R7/R6\n",
    "V_min = 1 + R7/(R6 + Tone1)\n",
    "\n",
    "print(f\"min. V = {V_min:.3f}\")\n",
    "print(f\"max. V = {V_max}\")"
   ]
  },
  {
   "cell_type": "code",
   "execution_count": 28,
   "metadata": {},
   "outputs": [
    {
     "name": "stdout",
     "output_type": "stream",
     "text": [
      "C10 = 4nF,\t fg (Level = 0) = 18438.095Hz ,\t fg (Level = 100%) = 3200.000Hz\n",
      "C10 = 24nF,\t fg (Level = 0) = 3200.000Hz ,\t fg (Level = 100%) = 555.372Hz\n",
      "C10 = 20nF,\t fg (Level = 0) = 3789.403Hz ,\t fg (Level = 100%) = 657.665Hz\n"
     ]
    }
   ],
   "source": [
    "fg = 3.2e3\n",
    "\n",
    "C10_1 = 1/(2 * pi * fg * (R6 + Tone1 + R7))\n",
    "C10_2 = 1/(2 * pi * fg * (R6 + R7))\n",
    "C10_3 = 20e-9\n",
    "\n",
    "fg_1 = 1/(2 * pi * C10_1 * (R6 + R7))\n",
    "fg_2 = 1/(2 * pi * C10_2 * (R6 + Tone1 + R7))\n",
    "fg_3_low = 1/(2 * pi * C10_3 * (R6 + Tone1 + R7))\n",
    "fg_3_high = 1/(2 * pi * C10_3 * (R6 + R7))\n",
    "\n",
    "print(f\"C10 = {C10_1*1e9:.0f}nF,\\t fg (Level = 0) = {fg_1:.3f}Hz ,\\t fg (Level = 100%) = {fg:.3f}Hz\")\n",
    "print(f\"C10 = {C10_2*1e9:.0f}nF,\\t fg (Level = 0) = {fg:.3f}Hz ,\\t fg (Level = 100%) = {fg_2:.3f}Hz\")\n",
    "print(f\"C10 = {C10_3*1e9:.0f}nF,\\t fg (Level = 0) = {fg_3_high:.3f}Hz ,\\t fg (Level = 100%) = {fg_3_low:.3f}Hz\")"
   ]
  },
  {
   "cell_type": "markdown",
   "metadata": {},
   "source": [
    "# Gain Stage"
   ]
  },
  {
   "cell_type": "code",
   "execution_count": 19,
   "metadata": {},
   "outputs": [],
   "source": [
    "R4 = 100e3\n",
    "C8 = 10e-6"
   ]
  },
  {
   "cell_type": "markdown",
   "metadata": {},
   "source": [
    "## Feedback"
   ]
  },
  {
   "cell_type": "code",
   "execution_count": 29,
   "metadata": {},
   "outputs": [
    {
     "name": "stdout",
     "output_type": "stream",
     "text": [
      "Gain1 = 10k\n",
      "R2 = 5k\n",
      "R5 = 0\n"
     ]
    }
   ],
   "source": [
    "V_max = 2\n",
    "V_min = 0\n",
    "\n",
    "Gain1 = 10e3 # Potentiometer\n",
    "\n",
    "R2 = Gain1 / V_max\n",
    "R5 = R2 * V_min\n",
    "\n",
    "print(f\"Gain1 = {Gain1*1e-3:.0f}k\")\n",
    "print(f\"R2 = {R2*1e-3:.0f}k\")\n",
    "print(f\"R5 = {R5:.0f}\")"
   ]
  }
 ],
 "metadata": {
  "kernelspec": {
   "display_name": "Python 3.9.4 ('data')",
   "language": "python",
   "name": "python3"
  },
  "language_info": {
   "codemirror_mode": {
    "name": "ipython",
    "version": 3
   },
   "file_extension": ".py",
   "mimetype": "text/x-python",
   "name": "python",
   "nbconvert_exporter": "python",
   "pygments_lexer": "ipython3",
   "version": "3.9.4"
  },
  "orig_nbformat": 4,
  "vscode": {
   "interpreter": {
    "hash": "c650d7ea476703797fef1616c599c5fe06f1b1bacf69f4e17f09dcc79ec3c159"
   }
  }
 },
 "nbformat": 4,
 "nbformat_minor": 2
}
