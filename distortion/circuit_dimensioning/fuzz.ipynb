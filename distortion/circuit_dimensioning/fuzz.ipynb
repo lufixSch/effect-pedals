{
 "cells": [
  {
   "cell_type": "code",
   "execution_count": 2,
   "metadata": {},
   "outputs": [],
   "source": [
    "from numpy import pi"
   ]
  },
  {
   "cell_type": "markdown",
   "metadata": {},
   "source": [
    "# Effect stage"
   ]
  },
  {
   "cell_type": "markdown",
   "metadata": {},
   "source": [
    "## Voltage divider"
   ]
  },
  {
   "cell_type": "code",
   "execution_count": 3,
   "metadata": {},
   "outputs": [],
   "source": [
    "R8 = 100e3\n",
    "R9 = 100e3"
   ]
  },
  {
   "cell_type": "code",
   "execution_count": 9,
   "metadata": {},
   "outputs": [
    {
     "name": "stdout",
     "output_type": "stream",
     "text": [
      "C9 = 159nF\n"
     ]
    }
   ],
   "source": [
    "Rp89 = (R8*R9)/(R8 + R9)\n",
    "fg = 20\n",
    "\n",
    "C9 = 1/(2 * pi * fg * Rp89)\n",
    "\n",
    "print(f\"C9 = {C9*1e9:.0f}nF\")"
   ]
  },
  {
   "cell_type": "markdown",
   "metadata": {},
   "source": [
    "## Feeback"
   ]
  },
  {
   "cell_type": "markdown",
   "metadata": {},
   "source": [
    "$ A = \\cfrac{R_{F1} + \\cfrac{1}{sC_{F1}}}{R_{F1} + \\cfrac{1}{sC_{F1}} + Level + R_1} = \\cfrac{1 + sC_{F1}R_{F1}}{1 + sC_{F1}(R_{F1} + Level + R_1)} $"
   ]
  },
  {
   "cell_type": "code",
   "execution_count": 30,
   "metadata": {},
   "outputs": [],
   "source": [
    "Level1 = 10e3 # Potentiometer\n",
    "R1 = 1e3\n",
    "RF1 = 1e3"
   ]
  },
  {
   "cell_type": "code",
   "execution_count": 31,
   "metadata": {},
   "outputs": [
    {
     "name": "stdout",
     "output_type": "stream",
     "text": [
      "CF2 (Level = 0) = 663nF,\t fg (Level = 100%) = 120.000Hz\n",
      "CF2 (Level = 100%) = 3979nF,\t fg (Level = 0) = 3.333Hz\n"
     ]
    }
   ],
   "source": [
    "fg = 20\n",
    "\n",
    "CF2_1 = 1/(2 * pi * fg * (RF1 + Level1 + R1))\n",
    "CF2_2 = 1/(2 * pi * fg * (RF1 + R1))\n",
    "\n",
    "fg_1 = 1/(2 * pi * CF2_1 * (RF1 + R1))\n",
    "fg_2 = 1/(2 * pi * CF2_2 * (RF1 + Level1 + R1))\n",
    "\n",
    "print(f\"CF2 (Level = 0) = {CF2_1*1e9:.0f}nF,\\t fg (Level = 100%) = {fg_1:.3f}Hz\")\n",
    "print(f\"CF2 (Level = 100%) = {CF2_2*1e9:.0f}nF,\\t fg (Level = 0) = {fg_2:.3f}Hz\")"
   ]
  },
  {
   "cell_type": "markdown",
   "metadata": {},
   "source": [
    "# Tone"
   ]
  },
  {
   "cell_type": "markdown",
   "metadata": {},
   "source": [
    "$ A = \\cfrac{R_{6} + \\cfrac{1}{sC_{10}} + Tone}{R_{6} + \\cfrac{1}{sC_{10}} + Tone + R_{7}} = \\cfrac{1 + sC_{10}(R_{6} + Tone)}{1 + sC_{10}(R_{6} + Tone + R_{7})} $"
   ]
  },
  {
   "cell_type": "code",
   "execution_count": 32,
   "metadata": {},
   "outputs": [],
   "source": [
    "R6 = 100\n",
    "R7 = 1e3\n",
    "Tone1 = 10e3 # Potentiometer"
   ]
  },
  {
   "cell_type": "code",
   "execution_count": 21,
   "metadata": {},
   "outputs": [
    {
     "name": "stdout",
     "output_type": "stream",
     "text": [
      "CF2 (Level = 0) = 4nF,\t\t fg (Level = 100%) = 32290.909Hz\n",
      "CF2 (Level = 100%) = 45nF,\t fg (Level = 0) = 317.117Hz\n"
     ]
    }
   ],
   "source": [
    "fg = 3.2e3\n",
    "\n",
    "C10_1 = 1/(2 * pi * fg * (R6 + Tone1 + R7))\n",
    "C10_2 = 1/(2 * pi * fg * (R6 + R7))\n",
    "\n",
    "fg_1 = 1/(2 * pi * C10_1 * (R6 + R7))\n",
    "fg_2 = 1/(2 * pi * C10_2 * (R6 + Tone1 + R7))\n",
    "\n",
    "print(f\"CF2 (Level = 0) = {C10_1*1e9:.0f}nF,\\t\\t fg (Level = 100%) = {fg_1:.3f}Hz\")\n",
    "print(f\"CF2 (Level = 100%) = {C10_2*1e9:.0f}nF,\\t fg (Level = 0) = {fg_2:.3f}Hz\")"
   ]
  },
  {
   "cell_type": "markdown",
   "metadata": {},
   "source": [
    "# Gain Stage"
   ]
  },
  {
   "cell_type": "markdown",
   "metadata": {},
   "source": [
    "## Voltage divider"
   ]
  },
  {
   "cell_type": "code",
   "execution_count": null,
   "metadata": {},
   "outputs": [],
   "source": [
    "R3 = 100e3\n",
    "R4 = 100e3"
   ]
  },
  {
   "cell_type": "markdown",
   "metadata": {},
   "source": [
    "## Feedback"
   ]
  },
  {
   "cell_type": "code",
   "execution_count": 29,
   "metadata": {},
   "outputs": [
    {
     "name": "stdout",
     "output_type": "stream",
     "text": [
      "Gain1 = 10k\n",
      "R2 = 2k\n",
      "R5 = 0\n"
     ]
    }
   ],
   "source": [
    "V_max = 5\n",
    "V_min = 0\n",
    "\n",
    "Gain1 = 10e3 # Potentiometer\n",
    "\n",
    "R2 = Gain1 / V_max\n",
    "R5 = R2 * V_min\n",
    "\n",
    "print(f\"Gain1 = {Gain1*1e-3:.0f}k\")\n",
    "print(f\"R2 = {R2*1e-3:.0f}k\")\n",
    "print(f\"R5 = {R5:.0f}\")"
   ]
  }
 ],
 "metadata": {
  "kernelspec": {
   "display_name": "Python 3.9.4 ('data')",
   "language": "python",
   "name": "python3"
  },
  "language_info": {
   "codemirror_mode": {
    "name": "ipython",
    "version": 3
   },
   "file_extension": ".py",
   "mimetype": "text/x-python",
   "name": "python",
   "nbconvert_exporter": "python",
   "pygments_lexer": "ipython3",
   "version": "3.9.4"
  },
  "orig_nbformat": 4,
  "vscode": {
   "interpreter": {
    "hash": "c650d7ea476703797fef1616c599c5fe06f1b1bacf69f4e17f09dcc79ec3c159"
   }
  }
 },
 "nbformat": 4,
 "nbformat_minor": 2
}
