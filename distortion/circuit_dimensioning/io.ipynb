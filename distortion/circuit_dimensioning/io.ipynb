{
 "cells": [
  {
   "cell_type": "markdown",
   "metadata": {},
   "source": [
    "# Foot Switch"
   ]
  },
  {
   "cell_type": "code",
   "execution_count": 1,
   "metadata": {},
   "outputs": [
    {
     "name": "stdout",
     "output_type": "stream",
     "text": [
      "R13 = 311\n"
     ]
    }
   ],
   "source": [
    "VCC = 8\n",
    "\n",
    "I_LED = 20e-3\n",
    "V_LED = 1.78\n",
    "\n",
    "R13 = (VCC - V_LED)/I_LED\n",
    "\n",
    "print(f\"R13 = {R13:.0f}\")"
   ]
  }
 ],
 "metadata": {
  "kernelspec": {
   "display_name": "Python 3.9.4 ('data')",
   "language": "python",
   "name": "python3"
  },
  "language_info": {
   "codemirror_mode": {
    "name": "ipython",
    "version": 3
   },
   "file_extension": ".py",
   "mimetype": "text/x-python",
   "name": "python",
   "nbconvert_exporter": "python",
   "pygments_lexer": "ipython3",
   "version": "3.9.4 (default, Apr  9 2021, 09:32:38) \n[Clang 10.0.0 ]"
  },
  "orig_nbformat": 4,
  "vscode": {
   "interpreter": {
    "hash": "c650d7ea476703797fef1616c599c5fe06f1b1bacf69f4e17f09dcc79ec3c159"
   }
  }
 },
 "nbformat": 4,
 "nbformat_minor": 2
}
